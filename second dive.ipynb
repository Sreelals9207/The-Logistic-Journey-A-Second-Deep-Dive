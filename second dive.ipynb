{
 "cells": [
  {
   "cell_type": "markdown",
   "id": "f9c4862d-bb6e-4583-942e-d0e6c4987ccc",
   "metadata": {},
   "source": [
    "# Exploring the Heart Attack Analysis & Prediction Dataset"
   ]
  },
  {
   "cell_type": "markdown",
   "id": "2fa83975-656a-41e9-a55a-2323c1a4772a",
   "metadata": {},
   "source": [
    "Heart attacks can strike unexpectedly, impacting lives in ways we often don’t see coming. While they may happen to anyone, their occurrence is linked to various factors—some predictable, others not so much. \n",
    "\n",
    "Today, I’m diving into these important features to uncover their significance. I've gathered a dataset from a public source, which you can check out [here](https://www.kaggle.com/datasets/rashikrahmanpritom/heart-attack-analysis-prediction-dataset).\n",
    "\n",
    "My first step is to analyze this dataset using a <code>LogisticRegression</code> model. Through this machine learning journey, I aim to unearth valuable insights about heart health.\n",
    "\n",
    "To kick things off, let me introduce you to the details of the dataset I have. For this, I’ll be importing my fabulous dataset from my computer to this notebook with the help of my trusty sidekick, Pandas!"
   ]
  },
  {
   "cell_type": "markdown",
   "id": "509f1372-e78b-4d59-9baa-ea81709bc071",
   "metadata": {},
   "source": [
    "# Prepare data"
   ]
  },
  {
   "cell_type": "markdown",
   "id": "2a7a5fe4-7ec6-4036-b3bc-e21c026590b3",
   "metadata": {},
   "source": [
    "first of all we sholud have to import all of the respective liabraries for data handling, cleaning, model building and to communicate result.\n",
    "\n",
    "First we import <code>pandas</code>, Pandas makes data analysis effortless by allowing you to clean, manipulate, and visualize data using its powerful DataFrame and Series structures.\n",
    "Then import <code>matplotlib.pyplot</code>, Matplotlib.pyplot is commonly used for creating a wide range of static, animated, and interactive visualizations in Python, including line plots, bar charts, and scatter plots.\n",
    "\n",
    "Import <code>sklearn</code>, Scikit-learn (sklearn) is widely used for implementing machine learning algorithms and performing tasks such as classification, regression, clustering, and model evaluation in Python.\n",
    "From scikit-Learn importing <code>LogisticRegression</code> and from <code>category_encoder</code> importing the <code>OneHotEncoder</code>. <code>LogisticRegression</code> is crucial for binary classification problems by modeling the probability of a categorical outcome, while <code>OneHotEncoder</code> is essential for converting categorical variables into a numerical format that can be used by machine learning algorithms.\n",
    "\n",
    "Here in classification model we are not using the mean absolute error for testing our model, instead we use <code>accuracy_score</code>. It is also importing from sk-learn.\n",
    "Next liabrary is the Scikit-learn's <code>train_test_split</code> function, which is important for efficiently and reproducibly partitioning data into training and testing sets, facilitating robust model evaluation and reducing the risk of overfitting.\n",
    "\n",
    "\n",
    "The <code>make_pipeline</code> function in scikit-learn is important for streamlining the process of chaining multiple data preprocessing steps and model training into a single, cohesive workflow, ensuring that all steps are applied consistently and sequentially."
   ]
  },
  {
   "cell_type": "markdown",
   "id": "9155aef8-fb86-495a-a04d-bbea51652d44",
   "metadata": {},
   "source": [
    "## Import"
   ]
  },
  {
   "cell_type": "code",
   "execution_count": 1,
   "id": "69b76ec5-9cbe-4323-b5c1-16750c3a33f8",
   "metadata": {},
   "outputs": [],
   "source": [
    "import matplotlib.pyplot as plt\n",
    "import numpy as np\n",
    "import pandas as pd\n",
    "import seaborn as sns\n",
    "from category_encoders import OneHotEncoder\n",
    "from sklearn.linear_model import LogisticRegression\n",
    "from sklearn.metrics import accuracy_score\n",
    "from sklearn.model_selection import train_test_split\n",
    "from sklearn.pipeline import Pipeline, make_pipeline"
   ]
  },
  {
   "cell_type": "markdown",
   "id": "8447f9b1-f15d-4b86-854b-53fe0879c7c6",
   "metadata": {},
   "source": [
    "Impoted all the necessary liabraries.."
   ]
  },
  {
   "cell_type": "markdown",
   "id": "0f75200a-e5d4-4cfe-9bf4-e144013c48ef",
   "metadata": {},
   "source": [
    "## Explore"
   ]
  },
  {
   "cell_type": "markdown",
   "id": "ff1c826b-cb65-40f6-8d1f-fc3d78c9a28b",
   "metadata": {},
   "source": [
    "After that we have introduced a wrangle fuction to read the csv file into a dataframe by using the filepath.\n",
    "\n",
    "The <code>wrangle</code> function is often used in data preprocessing to clean, transform, and prepare raw data for analysis by handling missing values, encoding categorical variables, and scaling features.\n"
   ]
  },
  {
   "cell_type": "code",
   "execution_count": 6,
   "id": "78810d09-5823-47c9-8936-dea0a15f31ac",
   "metadata": {},
   "outputs": [],
   "source": [
    "def wrangle(filepath):\n",
    "    #reading the csv file and assingn it to 'data'.\n",
    "    data = pd.read_csv(filepath)\n",
    "    \n",
    "    #Converting the 'data' into a DataFrame called 'df' by using pandas.\n",
    "    df = pd.DataFrame(data)\n",
    "\n",
    "    #changing the names of some columns of the dataframe for readebility.\n",
    "    df.rename(columns={\"cp\": \"pain_type\", \"trtbps\": \"BP\" , \"fbs\" : \"blod_sugr\" , \"thalachh\" : \"max_hrt_rate\", \"output\" : \"target\"}, inplace=True)\n",
    "\n",
    "    #replace the column value with categorical feature.\n",
    "    blood_sugar = {\n",
    "        1 : \">120\",\n",
    "        0 : \"<120\"\n",
    "    }\n",
    "    df[\"blod_sugr\"] = df[\"blod_sugr\"].replace(blood_sugar)\n",
    "\n",
    "    rest_ecg = {\n",
    "        0 : \"normal\",\n",
    "        1 : \"ST-T wave\",\n",
    "        2 : \"definite left ventricular hypertrophy\"\n",
    "    }\n",
    "    df[\"restecg\"] = df[\"restecg\"].replace(rest_ecg)\n",
    "\n",
    "    pain_type = {\n",
    "        0 : \"typical_angina\",\n",
    "        1 : \"atypical_angina\",\n",
    "        2 : \"non-anginal_pain\",\n",
    "        3 : \"asymptomatic\"\n",
    "    }\n",
    "    df[\"pain_type\"] = df[\"pain_type\"].replace(pain_type)\n",
    "\n",
    "    sex = {\n",
    "        1 : \"male\",\n",
    "        0 : \"female\"\n",
    "    }\n",
    "    df[\"sex\"] = df[\"sex\"].replace(sex)\n",
    "\n",
    "    #dropping the leaky columns.\n",
    "    df.drop(columns=[\"oldpeak\", \"slp\", \"caa\", \"thall\",], inplace = True)\n",
    "    \n",
    "    return df"
   ]
  },
  {
   "cell_type": "markdown",
   "id": "b08237f3-ab96-41d6-a281-21d92c7eff89",
   "metadata": {},
   "source": [
    "assinged the filepath to the wrangle fuction, which will create the dataframe that we actually want"
   ]
  },
  {
   "cell_type": "code",
   "execution_count": 3,
   "id": "c7aa1a8e-87c9-41ce-9d97-284e808d2af3",
   "metadata": {},
   "outputs": [
    {
     "data": {
      "text/html": [
       "<div>\n",
       "<style scoped>\n",
       "    .dataframe tbody tr th:only-of-type {\n",
       "        vertical-align: middle;\n",
       "    }\n",
       "\n",
       "    .dataframe tbody tr th {\n",
       "        vertical-align: top;\n",
       "    }\n",
       "\n",
       "    .dataframe thead th {\n",
       "        text-align: right;\n",
       "    }\n",
       "</style>\n",
       "<table border=\"1\" class=\"dataframe\">\n",
       "  <thead>\n",
       "    <tr style=\"text-align: right;\">\n",
       "      <th></th>\n",
       "      <th>age</th>\n",
       "      <th>sex</th>\n",
       "      <th>pain_type</th>\n",
       "      <th>BP</th>\n",
       "      <th>chol</th>\n",
       "      <th>blod_sugr</th>\n",
       "      <th>restecg</th>\n",
       "      <th>max_hrt_rate</th>\n",
       "      <th>exng</th>\n",
       "      <th>target</th>\n",
       "    </tr>\n",
       "  </thead>\n",
       "  <tbody>\n",
       "    <tr>\n",
       "      <th>0</th>\n",
       "      <td>63</td>\n",
       "      <td>male</td>\n",
       "      <td>asymptomatic</td>\n",
       "      <td>145</td>\n",
       "      <td>233</td>\n",
       "      <td>&gt;120</td>\n",
       "      <td>normal</td>\n",
       "      <td>150</td>\n",
       "      <td>0</td>\n",
       "      <td>1</td>\n",
       "    </tr>\n",
       "    <tr>\n",
       "      <th>1</th>\n",
       "      <td>37</td>\n",
       "      <td>male</td>\n",
       "      <td>non-anginal_pain</td>\n",
       "      <td>130</td>\n",
       "      <td>250</td>\n",
       "      <td>&lt;120</td>\n",
       "      <td>ST-T wave</td>\n",
       "      <td>187</td>\n",
       "      <td>0</td>\n",
       "      <td>1</td>\n",
       "    </tr>\n",
       "    <tr>\n",
       "      <th>2</th>\n",
       "      <td>41</td>\n",
       "      <td>female</td>\n",
       "      <td>atypical_angina</td>\n",
       "      <td>130</td>\n",
       "      <td>204</td>\n",
       "      <td>&lt;120</td>\n",
       "      <td>normal</td>\n",
       "      <td>172</td>\n",
       "      <td>0</td>\n",
       "      <td>1</td>\n",
       "    </tr>\n",
       "    <tr>\n",
       "      <th>3</th>\n",
       "      <td>56</td>\n",
       "      <td>male</td>\n",
       "      <td>atypical_angina</td>\n",
       "      <td>120</td>\n",
       "      <td>236</td>\n",
       "      <td>&lt;120</td>\n",
       "      <td>ST-T wave</td>\n",
       "      <td>178</td>\n",
       "      <td>0</td>\n",
       "      <td>1</td>\n",
       "    </tr>\n",
       "    <tr>\n",
       "      <th>4</th>\n",
       "      <td>57</td>\n",
       "      <td>female</td>\n",
       "      <td>typical_angina</td>\n",
       "      <td>120</td>\n",
       "      <td>354</td>\n",
       "      <td>&lt;120</td>\n",
       "      <td>ST-T wave</td>\n",
       "      <td>163</td>\n",
       "      <td>1</td>\n",
       "      <td>1</td>\n",
       "    </tr>\n",
       "  </tbody>\n",
       "</table>\n",
       "</div>"
      ],
      "text/plain": [
       "   age     sex         pain_type   BP  chol blod_sugr    restecg  \\\n",
       "0   63    male      asymptomatic  145   233      >120     normal   \n",
       "1   37    male  non-anginal_pain  130   250      <120  ST-T wave   \n",
       "2   41  female   atypical_angina  130   204      <120     normal   \n",
       "3   56    male   atypical_angina  120   236      <120  ST-T wave   \n",
       "4   57  female    typical_angina  120   354      <120  ST-T wave   \n",
       "\n",
       "   max_hrt_rate  exng  target  \n",
       "0           150     0       1  \n",
       "1           187     0       1  \n",
       "2           172     0       1  \n",
       "3           178     0       1  \n",
       "4           163     1       1  "
      ]
     },
     "execution_count": 3,
     "metadata": {},
     "output_type": "execute_result"
    }
   ],
   "source": [
    "df = wrangle(\"/Users/user/Downloads/heart (1).csv\")\n",
    "df.head()"
   ]
  },
  {
   "cell_type": "markdown",
   "id": "d164dfc4-8287-4dc4-9e75-4c8323635996",
   "metadata": {},
   "source": [
    "Now we have our beautiful dataframe with the dataset. Before moving further, we have to discuss about the columns in our dataset. it is very important thing to convey the meaning of all variables to the audience. Through that only they can understand the importance of them more deeply.\n",
    "In our dataset, some of the columns headings are in short form. we don't understand the meaning of them by reading it. I am going to explain the meaning of them one-by-one and changing the headings a little bit for readebility.\n",
    "\n",
    "1) age - It is the age of the person in the dataset.\n",
    "2) sex - it is the sex of the person in our dataset (1 = female, 0 = male)\n",
    "3) cp - it is the Chest Pain type. It consist with 4 types (Value 1: typical angina\n",
    "                Value 2: atypical angina\n",
    "                Value 3: non-anginal pain\n",
    "                Value 4: asymptomatic)\n",
    "4) trtbps - resting blood pressure (in mm Hg)\n",
    "5) chol - cholestrol level\n",
    "6) fbs - (fasting blood sugar > 120 mg/dl) (1 = true; 0 = false)\n",
    "7) restecg - resting electrocardiographic results (Value 0: normal\n",
    "                Value 1: having ST-T wave abnormality (T wave inversions and/or ST elevation or depression of > 0.05 mV)\n",
    "                Value 2: showing probable or definite left ventricular hypertrophy by Estes' criteria)\n",
    "8) thalachh - maximum heart rate achieved\n",
    "9) exng - exercise induced angina (1 = yes; 0 = no)\n",
    "10)  output - 0= less chance of heart attack 1= more chance of heart attack.\n",
    "\n",
    "Here is the details of the columns. And our dataframe do have some additional columns. But it had not explained properly. that columns are not important also. Therefore we have dropped those columns.\n",
    "For readebility we have renamed some columns, that all are included in the wrangle function.\n",
    "\n",
    "Another important thing is that, we have replaced the numbers of the columns by using it's own categorical terms. It can also understand by looking on the wrangle function."
   ]
  },
  {
   "cell_type": "code",
   "execution_count": 14,
   "id": "5932801f-57a8-4bc0-aa69-75aa31cac567",
   "metadata": {},
   "outputs": [
    {
     "data": {
      "text/plain": [
       "sex          2\n",
       "pain_type    4\n",
       "blod_sugr    2\n",
       "restecg      3\n",
       "dtype: int64"
      ]
     },
     "execution_count": 14,
     "metadata": {},
     "output_type": "execute_result"
    }
   ],
   "source": [
    "#Checking for the categorical features with high and low cardinalitty.\n",
    "df.select_dtypes(\"object\").nunique()"
   ]
  },
  {
   "cell_type": "markdown",
   "id": "ed2b7f88-ff3c-4268-838d-a0a2056c77e8",
   "metadata": {},
   "source": [
    "We have checked all the features for understanding the high and low cardinality. By checking that we understand there is no longer any feature with high or low cardinality. The number of unique items in the columns are appropriate for performing the model."
   ]
  },
  {
   "cell_type": "code",
   "execution_count": 15,
   "id": "c17c48b0-4015-4d6d-9195-169ad39a0f4a",
   "metadata": {},
   "outputs": [
    {
     "data": {
      "text/html": [
       "<div>\n",
       "<style scoped>\n",
       "    .dataframe tbody tr th:only-of-type {\n",
       "        vertical-align: middle;\n",
       "    }\n",
       "\n",
       "    .dataframe tbody tr th {\n",
       "        vertical-align: top;\n",
       "    }\n",
       "\n",
       "    .dataframe thead th {\n",
       "        text-align: right;\n",
       "    }\n",
       "</style>\n",
       "<table border=\"1\" class=\"dataframe\">\n",
       "  <thead>\n",
       "    <tr style=\"text-align: right;\">\n",
       "      <th></th>\n",
       "      <th>age</th>\n",
       "      <th>BP</th>\n",
       "      <th>chol</th>\n",
       "      <th>max_hrt_rate</th>\n",
       "      <th>exng</th>\n",
       "    </tr>\n",
       "  </thead>\n",
       "  <tbody>\n",
       "    <tr>\n",
       "      <th>age</th>\n",
       "      <td>1.000000</td>\n",
       "      <td>0.279351</td>\n",
       "      <td>0.213678</td>\n",
       "      <td>-0.398522</td>\n",
       "      <td>0.096801</td>\n",
       "    </tr>\n",
       "    <tr>\n",
       "      <th>BP</th>\n",
       "      <td>0.279351</td>\n",
       "      <td>1.000000</td>\n",
       "      <td>0.123174</td>\n",
       "      <td>-0.046698</td>\n",
       "      <td>0.067616</td>\n",
       "    </tr>\n",
       "    <tr>\n",
       "      <th>chol</th>\n",
       "      <td>0.213678</td>\n",
       "      <td>0.123174</td>\n",
       "      <td>1.000000</td>\n",
       "      <td>-0.009940</td>\n",
       "      <td>0.067023</td>\n",
       "    </tr>\n",
       "    <tr>\n",
       "      <th>max_hrt_rate</th>\n",
       "      <td>-0.398522</td>\n",
       "      <td>-0.046698</td>\n",
       "      <td>-0.009940</td>\n",
       "      <td>1.000000</td>\n",
       "      <td>-0.378812</td>\n",
       "    </tr>\n",
       "    <tr>\n",
       "      <th>exng</th>\n",
       "      <td>0.096801</td>\n",
       "      <td>0.067616</td>\n",
       "      <td>0.067023</td>\n",
       "      <td>-0.378812</td>\n",
       "      <td>1.000000</td>\n",
       "    </tr>\n",
       "  </tbody>\n",
       "</table>\n",
       "</div>"
      ],
      "text/plain": [
       "                   age        BP      chol  max_hrt_rate      exng\n",
       "age           1.000000  0.279351  0.213678     -0.398522  0.096801\n",
       "BP            0.279351  1.000000  0.123174     -0.046698  0.067616\n",
       "chol          0.213678  0.123174  1.000000     -0.009940  0.067023\n",
       "max_hrt_rate -0.398522 -0.046698 -0.009940      1.000000 -0.378812\n",
       "exng          0.096801  0.067616  0.067023     -0.378812  1.000000"
      ]
     },
     "execution_count": 15,
     "metadata": {},
     "output_type": "execute_result"
    }
   ],
   "source": [
    "#Checking for the Multicollinearity.\n",
    "corr = df.select_dtypes(\"number\").drop(columns = [\"target\"]).corr()\n",
    "corr"
   ]
  },
  {
   "cell_type": "markdown",
   "id": "4a18ee5f-3741-4e90-a921-546baa81ff82",
   "metadata": {},
   "source": [
    "Multicollinearity occurs when two or more predictor variables in a regression model are highly correlated, which can lead to unreliable estimates of coefficients and reduced interpretability of the model. to know that, we have checked the correlation in between the features.\n",
    "\n",
    "A picture is telling thousand storiers, So we assingn the correlation into a heatmap. \n",
    "A heatmap is a data visualization technique that displays values in a matrix format using color gradients, where each cell's color represents the magnitude of the value, making it easy to identify patterns, correlations, and anomalies in the data."
   ]
  },
  {
   "cell_type": "code",
   "execution_count": 16,
   "id": "bfd40306-cba0-43bd-81de-c000586e7c15",
   "metadata": {},
   "outputs": [
    {
     "data": {
      "image/png": "[encoded data removed]",
      "text/plain": [
       "<Figure size 640x480 with 2 Axes>"
      ]
     },
     "metadata": {},
     "output_type": "display_data"
    }
   ],
   "source": [
    "sns.heatmap(corr);"
   ]
  },
  {
   "cell_type": "markdown",
   "id": "0a0e8427-5faf-42e5-974a-fbea0118ec95",
   "metadata": {},
   "source": [
    "By looking on the heatmap above, it is clear that there is no longer a correlation between any of the features. So that is ok with this dataframe.\n",
    "\n",
    "After that we are going to analyse the relationship in between some of features and our target. It is important to understand about the charecters and relationship of the features with our target"
   ]
  },
  {
   "cell_type": "code",
   "execution_count": 17,
   "id": "625b937a-7017-4d54-95f8-9ab7a15a958c",
   "metadata": {},
   "outputs": [
    {
     "data": {
      "image/png": "[encoded data removed]",
      "text/plain": [
       "<Figure size 640x480 with 1 Axes>"
      ]
     },
     "metadata": {},
     "output_type": "display_data"
    }
   ],
   "source": [
    "#checking one feature with the target.\n",
    "sns.boxplot(\n",
    "    x = \"target\",\n",
    "    y = \"chol\",\n",
    "    data = df\n",
    ")\n",
    "plt.xlabel(\"Chance for heart attack.\")\n",
    "plt.ylabel(\"Cholestrol level\")\n",
    "plt.title(\"Distribution of cholestrol level by class\");"
   ]
  },
  {
   "cell_type": "markdown",
   "id": "5657aa9a-596a-4b2f-9ee2-739266f11f0a",
   "metadata": {},
   "source": [
    "From here we can not get a proper conclusion about the relationship. Here we checking with the cholestrol level of individuals and the chance for heart attack."
   ]
  },
  {
   "cell_type": "code",
   "execution_count": 18,
   "id": "cca7c427-f3f0-4629-a336-41860a0278b3",
   "metadata": {},
   "outputs": [
    {
     "data": {
      "image/png": "[encoded data removed]",
      "text/plain": [
       "<Figure size 640x480 with 1 Axes>"
      ]
     },
     "metadata": {},
     "output_type": "display_data"
    }
   ],
   "source": [
    "#checking one feature with the target.\n",
    "sns.boxplot(\n",
    "    x = \"target\",\n",
    "    y = \"BP\",\n",
    "    data = df\n",
    ")\n",
    "plt.xlabel(\"Chance for heart attack.\")\n",
    "plt.ylabel(\"BP\")\n",
    "plt.title(\"Distribution of BP level by class\");"
   ]
  },
  {
   "cell_type": "markdown",
   "id": "7c964590-78f7-4b7b-818a-4a15bb2b7d0a",
   "metadata": {},
   "source": [
    "After that we are checking with the blood preasure of individuals and the chance for heart attack.\n",
    "\n",
    "By going forward, now we are calculating the class balance of the model. Looking for 'Majority class' and 'Minority class'. In a dataset, the majority class represents the more frequently occurring category, while the minority class refers to the less frequent one, often posing challenges for classification tasks."
   ]
  },
  {
   "cell_type": "code",
   "execution_count": 19,
   "id": "7e406059-5c56-46c5-ad7f-3ce9589d1247",
   "metadata": {},
   "outputs": [
    {
     "name": "stdout",
     "output_type": "stream",
     "text": [
      "majority class is 0.5445544554455446.\n",
      "minority class is 0.45544554455445546.\n"
     ]
    }
   ],
   "source": [
    "#Majority class and the minority class.\n",
    "majority_class = df[\"target\"].value_counts(normalize = True).max()\n",
    "minority_class = df[\"target\"].value_counts(normalize = True).min()\n",
    "print(f\"majority class is {majority_class}.\")\n",
    "print(f\"minority class is {minority_class}.\")"
   ]
  },
  {
   "cell_type": "code",
   "execution_count": 20,
   "id": "7d789084-ae6c-4956-9d81-0a53d04eb944",
   "metadata": {},
   "outputs": [
    {
     "data": {
      "image/png": "[encoded data removed]",
      "text/plain": [
       "<Figure size 640x480 with 1 Axes>"
      ]
     },
     "metadata": {},
     "output_type": "display_data"
    }
   ],
   "source": [
    "maj_mino = df[\"target\"].value_counts(normalize=True).plot(kind = \"bar\")"
   ]
  },
  {
   "cell_type": "markdown",
   "id": "592dd297-f7c4-40d5-9f0e-fcd5c05d94ae",
   "metadata": {},
   "source": [
    "After looking on the majority and minority class we are going to the 'Pivot table' for more data exploration. A pivot table is a data processing tool used in spreadsheet applications to summarize, analyze, and organize large datasets. It allows users to rearrange and aggregate data dynamically, making it easier to identify patterns, trends, and insights by grouping and calculating totals across different dimensions.\n",
    "\n",
    "Before we proceed, it’s important to discuss a key concept: data balancing through <code>oversampling</code> and <code>undersampling</code>.\n",
    "**Oversampling** is a technique used to balance class distribution by increasing the number of instances in the minority class. This can be done by duplicating existing examples or generating synthetic data using methods like SMOTE. By providing more examples, we help the model better understand the minority class.\n",
    "\n",
    "**Undersampling**, on the other hand, reduces the number of instances in the majority class to achieve balance. This can involve randomly removing examples or using informed methods to retain the most informative ones. While it helps in balancing the dataset, care must be taken not to lose valuable information.\n",
    "\n",
    "Both techniques aim to enhance the model's performance by ensuring a more equitable representation of each class.\n",
    "But in here we are not going to the class balancing stage. we are going to the pivot table."
   ]
  },
  {
   "cell_type": "code",
   "execution_count": 35,
   "id": "4522b9ea-73d6-4e01-bc8b-ca721c7f8f4b",
   "metadata": {},
   "outputs": [
    {
     "name": "stderr",
     "output_type": "stream",
     "text": [
      "C:\\Users\\user\\AppData\\Local\\Temp\\ipykernel_16348\\1922608771.py:2: FutureWarning: The provided callable <function mean at 0x000001FD13888B80> is currently using DataFrameGroupBy.mean. In a future version of pandas, the provided callable will be used directly. To keep current behavior pass the string \"mean\" instead.\n",
      "  ecg_pivot = pd.pivot_table(\n"
     ]
    },
    {
     "data": {
      "text/html": [
       "<div>\n",
       "<style scoped>\n",
       "    .dataframe tbody tr th:only-of-type {\n",
       "        vertical-align: middle;\n",
       "    }\n",
       "\n",
       "    .dataframe tbody tr th {\n",
       "        vertical-align: top;\n",
       "    }\n",
       "\n",
       "    .dataframe thead th {\n",
       "        text-align: right;\n",
       "    }\n",
       "</style>\n",
       "<table border=\"1\" class=\"dataframe\">\n",
       "  <thead>\n",
       "    <tr style=\"text-align: right;\">\n",
       "      <th></th>\n",
       "      <th>target</th>\n",
       "    </tr>\n",
       "    <tr>\n",
       "      <th>pain_type</th>\n",
       "      <th></th>\n",
       "    </tr>\n",
       "  </thead>\n",
       "  <tbody>\n",
       "    <tr>\n",
       "      <th>typical_angina</th>\n",
       "      <td>0.272727</td>\n",
       "    </tr>\n",
       "    <tr>\n",
       "      <th>asymptomatic</th>\n",
       "      <td>0.695652</td>\n",
       "    </tr>\n",
       "    <tr>\n",
       "      <th>non-anginal_pain</th>\n",
       "      <td>0.793103</td>\n",
       "    </tr>\n",
       "    <tr>\n",
       "      <th>atypical_angina</th>\n",
       "      <td>0.820000</td>\n",
       "    </tr>\n",
       "  </tbody>\n",
       "</table>\n",
       "</div>"
      ],
      "text/plain": [
       "                    target\n",
       "pain_type                 \n",
       "typical_angina    0.272727\n",
       "asymptomatic      0.695652\n",
       "non-anginal_pain  0.793103\n",
       "atypical_angina   0.820000"
      ]
     },
     "execution_count": 35,
     "metadata": {},
     "output_type": "execute_result"
    }
   ],
   "source": [
    "#pivot table.\n",
    "ecg_pivot = pd.pivot_table(\n",
    "    df, index = \"pain_type\", values = \"target\", aggfunc = np.mean\n",
    ")\n",
    "ecg_pivot.sort_values(by = \"target\")"
   ]
  },
  {
   "cell_type": "markdown",
   "id": "33e08215-4c55-49db-bc20-0a4ccd26b727",
   "metadata": {},
   "source": [
    "- **Typical Angina (0.272727)**: This type of pain is associated with a lower probability of heart attack compared to the other types. A target value of approximately 0.27 suggests that individuals experiencing typical angina have a relatively lower risk.\n",
    "\n",
    "- **Asymptomatic (0.695652)**: Individuals who are asymptomatic have a moderate risk of heart attack, with a target value of about 0.70. This indicates that even without symptoms, there may still be significant underlying risks.\n",
    "\n",
    "- **Non-Anginal Pain (0.793103)**: This type of pain shows a higher probability of heart attack (around 0.79), suggesting that those experiencing non-anginal pain may be at considerable risk.\n",
    "\n",
    "- **Atypical Angina (0.820000)**: Atypical angina has the highest target value at approximately 0.82, indicating a strong association with heart attack risk. This suggests that individuals reporting atypical angina should be closely monitored for heart health.\n",
    "\n",
    "In summary, the pivot table highlights that as the type of pain becomes less typical, the associated risk of heart attack increases, emphasizing the importance of understanding pain types in heart disease assessments."
   ]
  },
  {
   "cell_type": "code",
   "execution_count": 36,
   "id": "8c402ee4-df58-4550-abc9-6326318b6e50",
   "metadata": {},
   "outputs": [
    {
     "data": {
      "image/png": "[encoded data removed]",
      "text/plain": [
       "<Figure size 640x480 with 1 Axes>"
      ]
     },
     "metadata": {},
     "output_type": "display_data"
    }
   ],
   "source": [
    "#pivot table with the bar chart.\n",
    "ecg_pivot.plot(kind = \"barh\")\n",
    "plt.axvline(majority_class, linestyle = \"--\", color = \"red\", label = \"majority class\")\n",
    "plt.axvline(minority_class, linestyle = \"--\", color = \"black\", label = \"minority class\")\n",
    "plt.legend()\n",
    "plt.show()"
   ]
  },
  {
   "cell_type": "markdown",
   "id": "fda89783-cf86-4417-92dc-ca749bf6f1ac",
   "metadata": {},
   "source": [
    "By looking in this figure, we can see two lines representing the majority class and minority class. "
   ]
  },
  {
   "cell_type": "markdown",
   "id": "55b673f0-9840-4916-b9eb-10f489ff61f8",
   "metadata": {},
   "source": [
    "## Split"
   ]
  },
  {
   "cell_type": "code",
   "execution_count": 23,
   "id": "ed606f15-41a1-4196-9636-f1cd1dc94766",
   "metadata": {},
   "outputs": [],
   "source": [
    "#feature matrix and the target vector.\n",
    "feature = [\"age\", \"sex\", \"pain_type\", \"BP\", \"chol\", \"max_hrt_rate\", \"exng\"]\n",
    "X = df[feature]\n",
    "target = \"target\"\n",
    "y = df[target]"
   ]
  },
  {
   "cell_type": "markdown",
   "id": "64776bf4-1209-4b91-99b8-d7e75b56d0a3",
   "metadata": {},
   "source": [
    "Here comes our vertical split of our data. A vertical split in data organization helps to separate features from the target variable, allowing for clearer analysis and more effective model training in machine learning tasks."
   ]
  },
  {
   "cell_type": "code",
   "execution_count": 24,
   "id": "a2217020-7c88-4d3d-8c60-7859ad1398cd",
   "metadata": {},
   "outputs": [],
   "source": [
    "#train and test split.\n",
    "X_train, X_test, y_train, y_test = train_test_split(X, y, test_size = 0.2, random_state = 42)"
   ]
  },
  {
   "cell_type": "markdown",
   "id": "44e3590b-022d-4997-8d18-b6a4a6ea9cf9",
   "metadata": {},
   "source": [
    "And after that we are making the horizontal train test split. The train-test split is essential in machine learning as it divides the dataset into training and testing subsets, enabling the model to learn from one set while being evaluated on another to ensure its generalization to unseen data. We are making a randomized train test split here, because we are dealing with a classifiacation problem."
   ]
  },
  {
   "cell_type": "markdown",
   "id": "30d65092-5c4a-41c1-b24e-e3fa6e6e0479",
   "metadata": {},
   "source": [
    "# Build model"
   ]
  },
  {
   "cell_type": "markdown",
   "id": "b5ebfda6-24a7-444c-b31d-32d7d530e5e7",
   "metadata": {},
   "source": [
    "## Baseline"
   ]
  },
  {
   "cell_type": "markdown",
   "id": "d16c9a59-5559-4b88-a486-aa6339f62c33",
   "metadata": {},
   "source": [
    "Here we are first checking the baseline accuracy score for our model. Baseline accuracy score is the minimum expected accuracy of a model, typically determined by predicting the most frequent class in the dataset, serving as a benchmark to evaluate the performance of more complex models."
   ]
  },
  {
   "cell_type": "code",
   "execution_count": 25,
   "id": "5bbaa4db-527b-483f-be55-4ef3b4c8acda",
   "metadata": {},
   "outputs": [
    {
     "name": "stdout",
     "output_type": "stream",
     "text": [
      "baseline accuracy score is 0.5445544554455446.\n"
     ]
    }
   ],
   "source": [
    "#baseline accuracy score.\n",
    "acc_baseline = df[\"target\"].value_counts(normalize = True).max()\n",
    "print(f\"baseline accuracy score is {acc_baseline}.\")"
   ]
  },
  {
   "cell_type": "markdown",
   "id": "fd57eade-80bf-45ab-b526-4122e15a4906",
   "metadata": {},
   "source": [
    "## Iterate"
   ]
  },
  {
   "cell_type": "code",
   "execution_count": 37,
   "id": "d6e53a6c-303b-4caa-85b3-6b273f320853",
   "metadata": {},
   "outputs": [
    {
     "data": {
      "text/html": [
       "<style>#sk-container-id-2 {\n",
       "  /* Definition of color scheme common for light and dark mode */\n",
       "  --sklearn-color-text: black;\n",
       "  --sklearn-color-line: gray;\n",
       "  /* Definition of color scheme for unfitted estimators */\n",
       "  --sklearn-color-unfitted-level-0: #fff5e6;\n",
       "  --sklearn-color-unfitted-level-1: #f6e4d2;\n",
       "  --sklearn-color-unfitted-level-2: #ffe0b3;\n",
       "  --sklearn-color-unfitted-level-3: chocolate;\n",
       "  /* Definition of color scheme for fitted estimators */\n",
       "  --sklearn-color-fitted-level-0: #f0f8ff;\n",
       "  --sklearn-color-fitted-level-1: #d4ebff;\n",
       "  --sklearn-color-fitted-level-2: #b3dbfd;\n",
       "  --sklearn-color-fitted-level-3: cornflowerblue;\n",
       "\n",
       "  /* Specific color for light theme */\n",
       "  --sklearn-color-text-on-default-background: var(--sg-text-color, var(--theme-code-foreground, var(--jp-content-font-color1, black)));\n",
       "  --sklearn-color-background: var(--sg-background-color, var(--theme-background, var(--jp-layout-color0, white)));\n",
       "  --sklearn-color-border-box: var(--sg-text-color, var(--theme-code-foreground, var(--jp-content-font-color1, black)));\n",
       "  --sklearn-color-icon: #696969;\n",
       "\n",
       "  @media (prefers-color-scheme: dark) {\n",
       "    /* Redefinition of color scheme for dark theme */\n",
       "    --sklearn-color-text-on-default-background: var(--sg-text-color, var(--theme-code-foreground, var(--jp-content-font-color1, white)));\n",
       "    --sklearn-color-background: var(--sg-background-color, var(--theme-background, var(--jp-layout-color0, #111)));\n",
       "    --sklearn-color-border-box: var(--sg-text-color, var(--theme-code-foreground, var(--jp-content-font-color1, white)));\n",
       "    --sklearn-color-icon: #878787;\n",
       "  }\n",
       "}\n",
       "\n",
       "#sk-container-id-2 {\n",
       "  color: var(--sklearn-color-text);\n",
       "}\n",
       "\n",
       "#sk-container-id-2 pre {\n",
       "  padding: 0;\n",
       "}\n",
       "\n",
       "#sk-container-id-2 input.sk-hidden--visually {\n",
       "  border: 0;\n",
       "  clip: rect(1px 1px 1px 1px);\n",
       "  clip: rect(1px, 1px, 1px, 1px);\n",
       "  height: 1px;\n",
       "  margin: -1px;\n",
       "  overflow: hidden;\n",
       "  padding: 0;\n",
       "  position: absolute;\n",
       "  width: 1px;\n",
       "}\n",
       "\n",
       "#sk-container-id-2 div.sk-dashed-wrapped {\n",
       "  border: 1px dashed var(--sklearn-color-line);\n",
       "  margin: 0 0.4em 0.5em 0.4em;\n",
       "  box-sizing: border-box;\n",
       "  padding-bottom: 0.4em;\n",
       "  background-color: var(--sklearn-color-background);\n",
       "}\n",
       "\n",
       "#sk-container-id-2 div.sk-container {\n",
       "  /* jupyter's `normalize.less` sets `[hidden] { display: none; }`\n",
       "     but bootstrap.min.css set `[hidden] { display: none !important; }`\n",
       "     so we also need the `!important` here to be able to override the\n",
       "     default hidden behavior on the sphinx rendered scikit-learn.org.\n",
       "     See: https://github.com/scikit-learn/scikit-learn/issues/21755 */\n",
       "  display: inline-block !important;\n",
       "  position: relative;\n",
       "}\n",
       "\n",
       "#sk-container-id-2 div.sk-text-repr-fallback {\n",
       "  display: none;\n",
       "}\n",
       "\n",
       "div.sk-parallel-item,\n",
       "div.sk-serial,\n",
       "div.sk-item {\n",
       "  /* draw centered vertical line to link estimators */\n",
       "  background-image: linear-gradient(var(--sklearn-color-text-on-default-background), var(--sklearn-color-text-on-default-background));\n",
       "  background-size: 2px 100%;\n",
       "  background-repeat: no-repeat;\n",
       "  background-position: center center;\n",
       "}\n",
       "\n",
       "/* Parallel-specific style estimator block */\n",
       "\n",
       "#sk-container-id-2 div.sk-parallel-item::after {\n",
       "  content: \"\";\n",
       "  width: 100%;\n",
       "  border-bottom: 2px solid var(--sklearn-color-text-on-default-background);\n",
       "  flex-grow: 1;\n",
       "}\n",
       "\n",
       "#sk-container-id-2 div.sk-parallel {\n",
       "  display: flex;\n",
       "  align-items: stretch;\n",
       "  justify-content: center;\n",
       "  background-color: var(--sklearn-color-background);\n",
       "  position: relative;\n",
       "}\n",
       "\n",
       "#sk-container-id-2 div.sk-parallel-item {\n",
       "  display: flex;\n",
       "  flex-direction: column;\n",
       "}\n",
       "\n",
       "#sk-container-id-2 div.sk-parallel-item:first-child::after {\n",
       "  align-self: flex-end;\n",
       "  width: 50%;\n",
       "}\n",
       "\n",
       "#sk-container-id-2 div.sk-parallel-item:last-child::after {\n",
       "  align-self: flex-start;\n",
       "  width: 50%;\n",
       "}\n",
       "\n",
       "#sk-container-id-2 div.sk-parallel-item:only-child::after {\n",
       "  width: 0;\n",
       "}\n",
       "\n",
       "/* Serial-specific style estimator block */\n",
       "\n",
       "#sk-container-id-2 div.sk-serial {\n",
       "  display: flex;\n",
       "  flex-direction: column;\n",
       "  align-items: center;\n",
       "  background-color: var(--sklearn-color-background);\n",
       "  padding-right: 1em;\n",
       "  padding-left: 1em;\n",
       "}\n",
       "\n",
       "\n",
       "/* Toggleable style: style used for estimator/Pipeline/ColumnTransformer box that is\n",
       "clickable and can be expanded/collapsed.\n",
       "- Pipeline and ColumnTransformer use this feature and define the default style\n",
       "- Estimators will overwrite some part of the style using the `sk-estimator` class\n",
       "*/\n",
       "\n",
       "/* Pipeline and ColumnTransformer style (default) */\n",
       "\n",
       "#sk-container-id-2 div.sk-toggleable {\n",
       "  /* Default theme specific background. It is overwritten whether we have a\n",
       "  specific estimator or a Pipeline/ColumnTransformer */\n",
       "  background-color: var(--sklearn-color-background);\n",
       "}\n",
       "\n",
       "/* Toggleable label */\n",
       "#sk-container-id-2 label.sk-toggleable__label {\n",
       "  cursor: pointer;\n",
       "  display: block;\n",
       "  width: 100%;\n",
       "  margin-bottom: 0;\n",
       "  padding: 0.5em;\n",
       "  box-sizing: border-box;\n",
       "  text-align: center;\n",
       "}\n",
       "\n",
       "#sk-container-id-2 label.sk-toggleable__label-arrow:before {\n",
       "  /* Arrow on the left of the label */\n",
       "  content: \"▸\";\n",
       "  float: left;\n",
       "  margin-right: 0.25em;\n",
       "  color: var(--sklearn-color-icon);\n",
       "}\n",
       "\n",
       "#sk-container-id-2 label.sk-toggleable__label-arrow:hover:before {\n",
       "  color: var(--sklearn-color-text);\n",
       "}\n",
       "\n",
       "/* Toggleable content - dropdown */\n",
       "\n",
       "#sk-container-id-2 div.sk-toggleable__content {\n",
       "  max-height: 0;\n",
       "  max-width: 0;\n",
       "  overflow: hidden;\n",
       "  text-align: left;\n",
       "  /* unfitted */\n",
       "  background-color: var(--sklearn-color-unfitted-level-0);\n",
       "}\n",
       "\n",
       "#sk-container-id-2 div.sk-toggleable__content.fitted {\n",
       "  /* fitted */\n",
       "  background-color: var(--sklearn-color-fitted-level-0);\n",
       "}\n",
       "\n",
       "#sk-container-id-2 div.sk-toggleable__content pre {\n",
       "  margin: 0.2em;\n",
       "  border-radius: 0.25em;\n",
       "  color: var(--sklearn-color-text);\n",
       "  /* unfitted */\n",
       "  background-color: var(--sklearn-color-unfitted-level-0);\n",
       "}\n",
       "\n",
       "#sk-container-id-2 div.sk-toggleable__content.fitted pre {\n",
       "  /* unfitted */\n",
       "  background-color: var(--sklearn-color-fitted-level-0);\n",
       "}\n",
       "\n",
       "#sk-container-id-2 input.sk-toggleable__control:checked~div.sk-toggleable__content {\n",
       "  /* Expand drop-down */\n",
       "  max-height: 200px;\n",
       "  max-width: 100%;\n",
       "  overflow: auto;\n",
       "}\n",
       "\n",
       "#sk-container-id-2 input.sk-toggleable__control:checked~label.sk-toggleable__label-arrow:before {\n",
       "  content: \"▾\";\n",
       "}\n",
       "\n",
       "/* Pipeline/ColumnTransformer-specific style */\n",
       "\n",
       "#sk-container-id-2 div.sk-label input.sk-toggleable__control:checked~label.sk-toggleable__label {\n",
       "  color: var(--sklearn-color-text);\n",
       "  background-color: var(--sklearn-color-unfitted-level-2);\n",
       "}\n",
       "\n",
       "#sk-container-id-2 div.sk-label.fitted input.sk-toggleable__control:checked~label.sk-toggleable__label {\n",
       "  background-color: var(--sklearn-color-fitted-level-2);\n",
       "}\n",
       "\n",
       "/* Estimator-specific style */\n",
       "\n",
       "/* Colorize estimator box */\n",
       "#sk-container-id-2 div.sk-estimator input.sk-toggleable__control:checked~label.sk-toggleable__label {\n",
       "  /* unfitted */\n",
       "  background-color: var(--sklearn-color-unfitted-level-2);\n",
       "}\n",
       "\n",
       "#sk-container-id-2 div.sk-estimator.fitted input.sk-toggleable__control:checked~label.sk-toggleable__label {\n",
       "  /* fitted */\n",
       "  background-color: var(--sklearn-color-fitted-level-2);\n",
       "}\n",
       "\n",
       "#sk-container-id-2 div.sk-label label.sk-toggleable__label,\n",
       "#sk-container-id-2 div.sk-label label {\n",
       "  /* The background is the default theme color */\n",
       "  color: var(--sklearn-color-text-on-default-background);\n",
       "}\n",
       "\n",
       "/* On hover, darken the color of the background */\n",
       "#sk-container-id-2 div.sk-label:hover label.sk-toggleable__label {\n",
       "  color: var(--sklearn-color-text);\n",
       "  background-color: var(--sklearn-color-unfitted-level-2);\n",
       "}\n",
       "\n",
       "/* Label box, darken color on hover, fitted */\n",
       "#sk-container-id-2 div.sk-label.fitted:hover label.sk-toggleable__label.fitted {\n",
       "  color: var(--sklearn-color-text);\n",
       "  background-color: var(--sklearn-color-fitted-level-2);\n",
       "}\n",
       "\n",
       "/* Estimator label */\n",
       "\n",
       "#sk-container-id-2 div.sk-label label {\n",
       "  font-family: monospace;\n",
       "  font-weight: bold;\n",
       "  display: inline-block;\n",
       "  line-height: 1.2em;\n",
       "}\n",
       "\n",
       "#sk-container-id-2 div.sk-label-container {\n",
       "  text-align: center;\n",
       "}\n",
       "\n",
       "/* Estimator-specific */\n",
       "#sk-container-id-2 div.sk-estimator {\n",
       "  font-family: monospace;\n",
       "  border: 1px dotted var(--sklearn-color-border-box);\n",
       "  border-radius: 0.25em;\n",
       "  box-sizing: border-box;\n",
       "  margin-bottom: 0.5em;\n",
       "  /* unfitted */\n",
       "  background-color: var(--sklearn-color-unfitted-level-0);\n",
       "}\n",
       "\n",
       "#sk-container-id-2 div.sk-estimator.fitted {\n",
       "  /* fitted */\n",
       "  background-color: var(--sklearn-color-fitted-level-0);\n",
       "}\n",
       "\n",
       "/* on hover */\n",
       "#sk-container-id-2 div.sk-estimator:hover {\n",
       "  /* unfitted */\n",
       "  background-color: var(--sklearn-color-unfitted-level-2);\n",
       "}\n",
       "\n",
       "#sk-container-id-2 div.sk-estimator.fitted:hover {\n",
       "  /* fitted */\n",
       "  background-color: var(--sklearn-color-fitted-level-2);\n",
       "}\n",
       "\n",
       "/* Specification for estimator info (e.g. \"i\" and \"?\") */\n",
       "\n",
       "/* Common style for \"i\" and \"?\" */\n",
       "\n",
       ".sk-estimator-doc-link,\n",
       "a:link.sk-estimator-doc-link,\n",
       "a:visited.sk-estimator-doc-link {\n",
       "  float: right;\n",
       "  font-size: smaller;\n",
       "  line-height: 1em;\n",
       "  font-family: monospace;\n",
       "  background-color: var(--sklearn-color-background);\n",
       "  border-radius: 1em;\n",
       "  height: 1em;\n",
       "  width: 1em;\n",
       "  text-decoration: none !important;\n",
       "  margin-left: 1ex;\n",
       "  /* unfitted */\n",
       "  border: var(--sklearn-color-unfitted-level-1) 1pt solid;\n",
       "  color: var(--sklearn-color-unfitted-level-1);\n",
       "}\n",
       "\n",
       ".sk-estimator-doc-link.fitted,\n",
       "a:link.sk-estimator-doc-link.fitted,\n",
       "a:visited.sk-estimator-doc-link.fitted {\n",
       "  /* fitted */\n",
       "  border: var(--sklearn-color-fitted-level-1) 1pt solid;\n",
       "  color: var(--sklearn-color-fitted-level-1);\n",
       "}\n",
       "\n",
       "/* On hover */\n",
       "div.sk-estimator:hover .sk-estimator-doc-link:hover,\n",
       ".sk-estimator-doc-link:hover,\n",
       "div.sk-label-container:hover .sk-estimator-doc-link:hover,\n",
       ".sk-estimator-doc-link:hover {\n",
       "  /* unfitted */\n",
       "  background-color: var(--sklearn-color-unfitted-level-3);\n",
       "  color: var(--sklearn-color-background);\n",
       "  text-decoration: none;\n",
       "}\n",
       "\n",
       "div.sk-estimator.fitted:hover .sk-estimator-doc-link.fitted:hover,\n",
       ".sk-estimator-doc-link.fitted:hover,\n",
       "div.sk-label-container:hover .sk-estimator-doc-link.fitted:hover,\n",
       ".sk-estimator-doc-link.fitted:hover {\n",
       "  /* fitted */\n",
       "  background-color: var(--sklearn-color-fitted-level-3);\n",
       "  color: var(--sklearn-color-background);\n",
       "  text-decoration: none;\n",
       "}\n",
       "\n",
       "/* Span, style for the box shown on hovering the info icon */\n",
       ".sk-estimator-doc-link span {\n",
       "  display: none;\n",
       "  z-index: 9999;\n",
       "  position: relative;\n",
       "  font-weight: normal;\n",
       "  right: .2ex;\n",
       "  padding: .5ex;\n",
       "  margin: .5ex;\n",
       "  width: min-content;\n",
       "  min-width: 20ex;\n",
       "  max-width: 50ex;\n",
       "  color: var(--sklearn-color-text);\n",
       "  box-shadow: 2pt 2pt 4pt #999;\n",
       "  /* unfitted */\n",
       "  background: var(--sklearn-color-unfitted-level-0);\n",
       "  border: .5pt solid var(--sklearn-color-unfitted-level-3);\n",
       "}\n",
       "\n",
       ".sk-estimator-doc-link.fitted span {\n",
       "  /* fitted */\n",
       "  background: var(--sklearn-color-fitted-level-0);\n",
       "  border: var(--sklearn-color-fitted-level-3);\n",
       "}\n",
       "\n",
       ".sk-estimator-doc-link:hover span {\n",
       "  display: block;\n",
       "}\n",
       "\n",
       "/* \"?\"-specific style due to the `<a>` HTML tag */\n",
       "\n",
       "#sk-container-id-2 a.estimator_doc_link {\n",
       "  float: right;\n",
       "  font-size: 1rem;\n",
       "  line-height: 1em;\n",
       "  font-family: monospace;\n",
       "  background-color: var(--sklearn-color-background);\n",
       "  border-radius: 1rem;\n",
       "  height: 1rem;\n",
       "  width: 1rem;\n",
       "  text-decoration: none;\n",
       "  /* unfitted */\n",
       "  color: var(--sklearn-color-unfitted-level-1);\n",
       "  border: var(--sklearn-color-unfitted-level-1) 1pt solid;\n",
       "}\n",
       "\n",
       "#sk-container-id-2 a.estimator_doc_link.fitted {\n",
       "  /* fitted */\n",
       "  border: var(--sklearn-color-fitted-level-1) 1pt solid;\n",
       "  color: var(--sklearn-color-fitted-level-1);\n",
       "}\n",
       "\n",
       "/* On hover */\n",
       "#sk-container-id-2 a.estimator_doc_link:hover {\n",
       "  /* unfitted */\n",
       "  background-color: var(--sklearn-color-unfitted-level-3);\n",
       "  color: var(--sklearn-color-background);\n",
       "  text-decoration: none;\n",
       "}\n",
       "\n",
       "#sk-container-id-2 a.estimator_doc_link.fitted:hover {\n",
       "  /* fitted */\n",
       "  background-color: var(--sklearn-color-fitted-level-3);\n",
       "}\n",
       "</style><div id=\"sk-container-id-2\" class=\"sk-top-container\"><div class=\"sk-text-repr-fallback\"><pre>Pipeline(steps=[(&#x27;onehotencoder&#x27;,\n",
       "                 OneHotEncoder(cols=[&#x27;sex&#x27;, &#x27;pain_type&#x27;], use_cat_names=True)),\n",
       "                (&#x27;logisticregression&#x27;, LogisticRegression(max_iter=10000))])</pre><b>In a Jupyter environment, please rerun this cell to show the HTML representation or trust the notebook. <br />On GitHub, the HTML representation is unable to render, please try loading this page with nbviewer.org.</b></div><div class=\"sk-container\" hidden><div class=\"sk-item sk-dashed-wrapped\"><div class=\"sk-label-container\"><div class=\"sk-label fitted sk-toggleable\"><input class=\"sk-toggleable__control sk-hidden--visually\" id=\"sk-estimator-id-4\" type=\"checkbox\" ><label for=\"sk-estimator-id-4\" class=\"sk-toggleable__label fitted sk-toggleable__label-arrow fitted\">&nbsp;&nbsp;Pipeline<a class=\"sk-estimator-doc-link fitted\" rel=\"noreferrer\" target=\"_blank\" href=\"https://scikit-learn.org/1.5/modules/generated/sklearn.pipeline.Pipeline.html\">?<span>Documentation for Pipeline</span></a><span class=\"sk-estimator-doc-link fitted\">i<span>Fitted</span></span></label><div class=\"sk-toggleable__content fitted\"><pre>Pipeline(steps=[(&#x27;onehotencoder&#x27;,\n",
       "                 OneHotEncoder(cols=[&#x27;sex&#x27;, &#x27;pain_type&#x27;], use_cat_names=True)),\n",
       "                (&#x27;logisticregression&#x27;, LogisticRegression(max_iter=10000))])</pre></div> </div></div><div class=\"sk-serial\"><div class=\"sk-item\"><div class=\"sk-estimator fitted sk-toggleable\"><input class=\"sk-toggleable__control sk-hidden--visually\" id=\"sk-estimator-id-5\" type=\"checkbox\" ><label for=\"sk-estimator-id-5\" class=\"sk-toggleable__label fitted sk-toggleable__label-arrow fitted\">OneHotEncoder</label><div class=\"sk-toggleable__content fitted\"><pre>OneHotEncoder(cols=[&#x27;sex&#x27;, &#x27;pain_type&#x27;], use_cat_names=True)</pre></div> </div></div><div class=\"sk-item\"><div class=\"sk-estimator fitted sk-toggleable\"><input class=\"sk-toggleable__control sk-hidden--visually\" id=\"sk-estimator-id-6\" type=\"checkbox\" ><label for=\"sk-estimator-id-6\" class=\"sk-toggleable__label fitted sk-toggleable__label-arrow fitted\">&nbsp;LogisticRegression<a class=\"sk-estimator-doc-link fitted\" rel=\"noreferrer\" target=\"_blank\" href=\"https://scikit-learn.org/1.5/modules/generated/sklearn.linear_model.LogisticRegression.html\">?<span>Documentation for LogisticRegression</span></a></label><div class=\"sk-toggleable__content fitted\"><pre>LogisticRegression(max_iter=10000)</pre></div> </div></div></div></div></div></div>"
      ],
      "text/plain": [
       "Pipeline(steps=[('onehotencoder',\n",
       "                 OneHotEncoder(cols=['sex', 'pain_type'], use_cat_names=True)),\n",
       "                ('logisticregression', LogisticRegression(max_iter=10000))])"
      ]
     },
     "execution_count": 37,
     "metadata": {},
     "output_type": "execute_result"
    }
   ],
   "source": [
    "#definning the model.\n",
    "model = make_pipeline(\n",
    "    OneHotEncoder(use_cat_names=True),\n",
    "    LogisticRegression(max_iter = 10000)\n",
    ")\n",
    "model.fit(X_train, y_train)"
   ]
  },
  {
   "cell_type": "markdown",
   "id": "42ee78b3-07c1-44b5-99ee-825ae536655a",
   "metadata": {},
   "source": [
    "We have trained our model by using our training data. It has been fitted perfectly..."
   ]
  },
  {
   "cell_type": "markdown",
   "id": "3e6791cf-6598-43ec-97e5-73adfad8f83c",
   "metadata": {},
   "source": [
    "It is the time to check our accuracy score for our model predictions. The accuracy score for training data measures the proportion of correctly predicted instances out of the total instances in the training set, providing insight into how well the model has learned from the training data. \n",
    "Insights from the accuracy score can reveal a model's effectiveness, indicate potential overfitting, highlight issues with class balance, serve as a benchmark for comparing different models, and guide iterative improvements in performance. A high accuracy score indicates that the model is correctly predicting a large proportion of the instances, suggesting it has learned the underlying patterns well."
   ]
  },
  {
   "cell_type": "markdown",
   "id": "862107a4-c85f-408e-9a99-4bc1856cd530",
   "metadata": {},
   "source": [
    "## Evaluate"
   ]
  },
  {
   "cell_type": "code",
   "execution_count": 27,
   "id": "ad0d440c-73d0-4754-b589-06f78b4413c4",
   "metadata": {},
   "outputs": [
    {
     "name": "stdout",
     "output_type": "stream",
     "text": [
      "accuracy score for the training set is 0.7892561983471075.\n"
     ]
    }
   ],
   "source": [
    "#train accuracy score.\n",
    "acc_train = accuracy_score(y_train, model.predict(X_train))\n",
    "print(f\"accuracy score for the training set is {acc_train}.\")"
   ]
  },
  {
   "cell_type": "markdown",
   "id": "54e329a6-7d51-4ed9-aec7-8ad4b9aa430f",
   "metadata": {},
   "source": [
    "Here the training accuracy score is good. it beats the baseline. And next we have to check out the test accuracy of our model or the model's accuracy with our test data. Through that only we can confirm the generalizability of our model. The test accuracy score measures the proportion of correctly predicted instances out of the total instances in the test dataset, providing an indication of how well the model generalizes to unseen data."
   ]
  },
  {
   "cell_type": "code",
   "execution_count": 28,
   "id": "bb7d291c-fe3c-481a-b4bb-1b735ab3b225",
   "metadata": {},
   "outputs": [
    {
     "name": "stdout",
     "output_type": "stream",
     "text": [
      "accuracy score for the test set is 0.8360655737704918.\n"
     ]
    }
   ],
   "source": [
    "#test accuracy score.\n",
    "acc_test = accuracy_score(y_test, model.predict(X_test))\n",
    "print(f\"accuracy score for the test set is {acc_test}.\")"
   ]
  },
  {
   "cell_type": "markdown",
   "id": "bb7bbcfe-5124-428d-a5b0-8b9fbe757849",
   "metadata": {},
   "source": [
    "The test accuracy of our model is much better than our training accuracy. So it is good to go forward."
   ]
  },
  {
   "cell_type": "markdown",
   "id": "9a6c9c21-14b6-42c6-af98-5c3122db57d0",
   "metadata": {},
   "source": [
    "# Communicate"
   ]
  },
  {
   "cell_type": "code",
   "execution_count": 60,
   "id": "54c731cd-e3e0-4c90-8eee-287502b41bb6",
   "metadata": {},
   "outputs": [
    {
     "name": "stdout",
     "output_type": "stream",
     "text": [
      "   pro_for_negative_class  pro_for_positive_class  prediction\n",
      "0                0.252081                0.747919           1\n",
      "1                0.970657                0.029343           0\n",
      "2                0.361864                0.638136           1\n",
      "3                0.072875                0.927125           1\n",
      "4                0.800238                0.199762           0\n"
     ]
    }
   ],
   "source": [
    "#probability for the predictions of the y_train.\n",
    "y_train_pred_proba = model.predict_proba(X_train)[:5]\n",
    "y_train_pred_proba= pd.DataFrame(y_train_pred_proba, columns=[\"pro_for_negative_class\", \"pro_for_positive_class\"])\n",
    "prediction = model.predict(X_train)[:5]\n",
    "y_train_pred_proba[\"prediction\"] = prediction\n",
    "print(y_train_pred_proba)"
   ]
  },
  {
   "cell_type": "markdown",
   "id": "17edc59d-3ee5-4fdf-b3de-20e984d13cf7",
   "metadata": {},
   "source": [
    "Here in the dataframe above, the first column 'pro_for_negative_class' represents the probability of being that prediction a negative class. And the se=cond column 'pro_for_positive_class' represents the probability of being that prediction a positive class. In which column the value will be more than 0.5, then the prediction will be that class."
   ]
  },
  {
   "cell_type": "code",
   "execution_count": 61,
   "id": "beee5bb3-7304-4add-9f27-ebb6e072731a",
   "metadata": {},
   "outputs": [
    {
     "name": "stdout",
     "output_type": "stream",
     "text": [
      "   pro_for_negative_class  pro_for_positive_class  prediction\n",
      "0                0.969963                0.030037           0\n",
      "1                0.541521                0.458479           0\n",
      "2                0.172899                0.827101           1\n",
      "3                0.711677                0.288323           0\n",
      "4                0.143169                0.856831           1\n"
     ]
    }
   ],
   "source": [
    "#probability for the predictions of the y_test.\n",
    "y_test_pred_proba = model.predict_proba(X_test)[:5]\n",
    "y_test_pred_proba= pd.DataFrame(y_test_pred_proba, columns=[\"pro_for_negative_class\", \"pro_for_positive_class\"])\n",
    "prediction = model.predict(X_test)[:5]\n",
    "y_test_pred_proba[\"prediction\"] = prediction\n",
    "print(y_test_pred_proba)"
   ]
  },
  {
   "cell_type": "markdown",
   "id": "d7cdbf22-95cc-4bc0-9aa5-88992d3426ac",
   "metadata": {},
   "source": [
    "Here we can see the probability of predictions for the test set.\n",
    "Next we are going to focus on the feature importances.Feature importance in a logistic regression model refers to the significance of each predictor variable in influencing the outcome of the model. Unlike tree-based models that provide straightforward metrics for feature importance, logistic regression relies on the coefficients assigned to each feature. These coefficients indicate the direction and strength of the relationship between each feature and the target variable. A higher absolute value of a coefficient suggests a greater impact on the likelihood of the outcome. By exponentiating the coefficients, we can also interpret them as odds ratios, which help in understanding how changes in the feature values affect the odds of the outcome.  Overall, assessing feature importance in logistic regression is crucial for model interpretability and for making informed decisions based on the model's predictions."
   ]
  },
  {
   "cell_type": "code",
   "execution_count": 31,
   "id": "c7db9a33-e0f3-4238-8179-990d58cb824b",
   "metadata": {},
   "outputs": [],
   "source": [
    "#feature importance.\n",
    "features = model.named_steps[\"onehotencoder\"].get_feature_names_out()\n",
    "features\n",
    "importance = model.named_steps[\"logisticregression\"].coef_[0]"
   ]
  },
  {
   "cell_type": "markdown",
   "id": "6ed48a85-016a-439a-9fdb-f66c674d359c",
   "metadata": {},
   "source": [
    "\n",
    "An odds ratio is a statistic that measures the strength of association between a predictor variable and an outcome, indicating how the odds of the outcome change with a one-unit increase in the predictor; an OR greater than 1 suggests a positive relationship, while an OR less than 1 indicates a negative relationship."
   ]
  },
  {
   "cell_type": "code",
   "execution_count": 63,
   "id": "3005455b-2c16-470e-809b-4e332b20c3a1",
   "metadata": {},
   "outputs": [
    {
     "data": {
      "text/plain": [
       "pain_type_typical_angina      0.334436\n",
       "exng                          0.382867\n",
       "sex_male                      0.402119\n",
       "age                           0.975982\n",
       "BP                            0.983652\n",
       "chol                          0.995142\n",
       "max_hrt_rate                  1.029425\n",
       "pain_type_atypical_angina     1.336902\n",
       "pain_type_asymptomatic        1.386408\n",
       "pain_type_non-anginal_pain    1.624451\n",
       "sex_female                    2.504122\n",
       "dtype: float64"
      ]
     },
     "execution_count": 63,
     "metadata": {},
     "output_type": "execute_result"
    }
   ],
   "source": [
    "#odds ratio.\n",
    "odds_ratio = pd.Series(np.exp(importance), index = features).sort_values()\n",
    "odds_ratio"
   ]
  },
  {
   "cell_type": "code",
   "execution_count": 64,
   "id": "46b917cd-45e9-4ac2-8c2d-f92dffe88696",
   "metadata": {},
   "outputs": [
    {
     "data": {
      "image/png": "[encoded data removed]",
      "text/plain": [
       "<Figure size 640x480 with 1 Axes>"
      ]
     },
     "metadata": {},
     "output_type": "display_data"
    }
   ],
   "source": [
    "odds_ratio.tail(5).plot(kind = \"barh\",xlabel = \"odds ratio\");"
   ]
  },
  {
   "cell_type": "markdown",
   "id": "864b1cdf-bc15-4f11-92a7-0a7ae344b663",
   "metadata": {},
   "source": [
    "Upon examining the diagram of feature importance represented by odds ratios, we can observe that the 'Female' category shows a significantly higher likelihood of heart attacks. This feature stands out as having the highest probability of occurrence, indicating that being female is a key factor associated with an increased risk of heart attack."
   ]
  },
  {
   "cell_type": "code",
   "execution_count": 65,
   "id": "447bb872-cce5-4710-b407-99f91830b843",
   "metadata": {},
   "outputs": [
    {
     "data": {
      "image/png": "[encoded data removed]",
      "text/plain": [
       "<Figure size 640x480 with 1 Axes>"
      ]
     },
     "metadata": {},
     "output_type": "display_data"
    }
   ],
   "source": [
    "odds_ratio.head(5).plot(kind = \"barh\", xlabel = \"odds ratio\");"
   ]
  },
  {
   "cell_type": "markdown",
   "id": "10019f37-e5aa-4e9c-8efa-f4ce2ed77577",
   "metadata": {},
   "source": [
    "At the same time,when we consider the second diagrame with the features of least Odds ratio the pain type of typical angina have less probability to occur heart attack."
   ]
  },
  {
   "cell_type": "code",
   "execution_count": 68,
   "id": "696c5897-c33f-4132-9a41-85081b1a62ea",
   "metadata": {},
   "outputs": [
    {
     "data": {
      "text/plain": [
       "max_hrt_rate                  1.029425\n",
       "pain_type_atypical_angina     1.336902\n",
       "pain_type_asymptomatic        1.386408\n",
       "pain_type_non-anginal_pain    1.624451\n",
       "sex_female                    2.504122\n",
       "dtype: float64"
      ]
     },
     "execution_count": 68,
     "metadata": {},
     "output_type": "execute_result"
    }
   ],
   "source": [
    "#Features of top five Odds ratio.\n",
    "top_5_odd = odds_ratio.tail(5)\n",
    "top_5_odd"
   ]
  },
  {
   "cell_type": "markdown",
   "id": "5f3916a2-e504-4312-9d21-47e7f4f542dd",
   "metadata": {},
   "source": [
    "1. **Max Heart Rate (1.029425)**: This feature has an odds ratio of approximately 1.03, suggesting that for each additional unit increase in maximum heart rate, the odds of having a heart attack increase by about 2.9%. While the effect is modest, it indicates a positive relationship between heart rate and heart attack risk.\n",
    "\n",
    "2. **Pain Type: Atypical Angina (1.336902)**: With an odds ratio of about 1.34, individuals experiencing atypical angina are approximately 33.7% more likely to have a heart attack compared to those without this type of pain.\n",
    "\n",
    "3. **Pain Type: Asymptomatic (1.386408)**: This odds ratio of around 1.39 indicates that asymptomatic individuals have a 38.6% higher chance of experiencing a heart attack. This underscores the importance of monitoring even those who do not exhibit obvious symptoms.\n",
    "\n",
    "4. **Pain Type: Non-Anginal Pain (1.624451)**: The odds ratio of approximately 1.62 suggests that individuals reporting non-anginal pain are about 62.4% more likely to have a heart attack. This highlights a significant association between this pain type and heart attack risk.\n",
    "\n",
    "5. **Sex: Female (2.504122)**: With the highest odds ratio of about 2.50, being female is associated with more than double the odds (150.4%) of having a heart attack compared to males. This finding emphasizes the critical need to consider gender differences in heart disease assessments."
   ]
  },
  {
   "cell_type": "code",
   "execution_count": 69,
   "id": "5eba06b6-5c5d-4098-85ef-0aa7534f8bac",
   "metadata": {},
   "outputs": [
    {
     "data": {
      "text/plain": [
       "pain_type_typical_angina    0.334436\n",
       "exng                        0.382867\n",
       "sex_male                    0.402119\n",
       "age                         0.975982\n",
       "BP                          0.983652\n",
       "dtype: float64"
      ]
     },
     "execution_count": 69,
     "metadata": {},
     "output_type": "execute_result"
    }
   ],
   "source": [
    "#Features of least five Odds ratio.\n",
    "least_5_odd = odds_ratio.head(5)\n",
    "least_5_odd"
   ]
  },
  {
   "cell_type": "markdown",
   "id": "bfdd8de1-44bd-44ee-8d3b-7a4bedb40697",
   "metadata": {},
   "source": [
    "1. **Pain Type: Typical Angina (0.334436)**: With an odds ratio of approximately 0.33, those experiencing typical angina are about 66.6% less likely to have a heart attack compared to those without this type of pain. It seems that typical angina is not the villain in this story after all!\n",
    "\n",
    "2. **Exercise Induced Angina (Exng) (0.382867)**: An odds ratio of around 0.38 indicates that individuals with exercise-induced angina have a 61.7% lower chance of experiencing a heart attack. Who knew that a little workout pain could mean less heart risk?\n",
    "\n",
    "3. **Sex: Male (0.402119)**: Males show an odds ratio of about 0.40, suggesting they are 59.8% less likely to have a heart attack compared to females in this dataset. This challenges some common assumptions about gender and heart disease—talk about a plot twist!\n",
    "\n",
    "4. **Age (0.975982)**: With an odds ratio of approximately 0.98, each additional year of age is associated with a 2.4% decrease in heart attack risk. It seems that age is not just a number; in this case, it might be a number with a bit of a friendly discount!\n",
    "\n",
    "5. **Blood Pressure (BP) (0.983652)**: The odds ratio of around 0.98 suggests that as blood pressure increases, the likelihood of a heart attack decreases by about 1.7%. While this might sound counterintuitive, it highlights the need for a nuanced understanding of how various factors interplay."
   ]
  },
  {
   "cell_type": "markdown",
   "id": "693e9242-5bc4-43ae-ad3b-5484fe664d58",
   "metadata": {},
   "source": [
    "# Conclusion\n",
    "\n",
    "### In this analysis, we navigated through a simulated dataset specifically chosen for educational purposes. While the odds ratios provided interesting insights into potential heart attack risk factors, the discrepancies—especially regarding blood pressure and age—serve as a reminder of the importance of critical thinking in data science.\n",
    "\n",
    "### This project highlights that while datasets can be invaluable learning tools, it’s essential to approach them with a healthy dose of skepticism. Always remember to question your data, verify its authenticity, and consider the broader context of the findings.\n",
    "\n",
    "### So, as we continue our journey in data science, let’s keep our minds open and our common sense sharp. After all, the true power of data lies not just in the numbers but in our ability to interpret them wisely! "
   ]
  }
 ],
 "metadata": {
  "kernelspec": {
   "display_name": "Python 3 (ipykernel)",
   "language": "python",
   "name": "python3"
  },
  "language_info": {
   "codemirror_mode": {
    "name": "ipython",
    "version": 3
   },
   "file_extension": ".py",
   "mimetype": "text/x-python",
   "name": "python",
   "nbconvert_exporter": "python",
   "pygments_lexer": "ipython3",
   "version": "3.12.3"
  }
 },
 "nbformat": 4,
 "nbformat_minor": 5
}
